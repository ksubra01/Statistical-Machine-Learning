{
  "nbformat": 4,
  "nbformat_minor": 0,
  "metadata": {
    "colab": {
      "provenance": [],
      "collapsed_sections": []
    },
    "kernelspec": {
      "name": "python3",
      "display_name": "Python 3"
    },
    "language_info": {
      "name": "python"
    }
  },
  "cells": [
    {
      "cell_type": "code",
      "execution_count": 1,
      "metadata": {
        "id": "359w1S4GEhWr",
        "colab": {
          "base_uri": "https://localhost:8080/",
          "height": 295
        },
        "outputId": "5425a239-58d0-4a31-b437-b86c00871ca9"
      },
      "outputs": [
        {
          "output_type": "display_data",
          "data": {
            "text/plain": [
              "<Figure size 432x288 with 1 Axes>"
            ],
            "image/png": "[encoded data removed]"
          },
          "metadata": {
            "needs_background": "light"
          }
        }
      ],
      "source": [
        "# Problem 4 \n",
        "# Name: Karthick Subramanian\n",
        "# ASUID: 1223408524\n",
        "\n",
        "import numpy as np\n",
        "from matplotlib import pyplot as plt\n",
        "import math\n",
        "\n",
        "#Used a function to calculate the error\n",
        "def Error_func(Lambda,X,Y,d):\n",
        "  X_Trans = np.transpose(X)\n",
        "  I = np.identity(d)\n",
        "  w = []\n",
        "  error = []\n",
        "  for i in range(len(Lambda)):\n",
        "    Inv = np.linalg.solve(np.dot(X_Trans,X) + Lambda[i]*I, I)\n",
        "    X_t_y = np.dot(X_Trans,Y)\n",
        "    w_cap = np.dot(Inv,X_t_y)\n",
        "    error.append(np.linalg.norm(np.dot(X,w_cap) - Y) / np.linalg.norm(Y))\n",
        "    w.append(w_cap)\n",
        "  return error,w\n",
        "   \n",
        "#Initialize the require variables   \n",
        "Train_error = []\n",
        "Test_error = []\n",
        "Lambda = np.array([0.0001, 0.001, 0.01, 0.1, 1, 10, 100])\n",
        "\n",
        "\n",
        "for i in range(30):\n",
        "  train_n = 100\n",
        "  test_n = 1000\n",
        "  d = 100\n",
        "  tes_error = []\n",
        "\n",
        "  #Generate random vaiables for train and test\n",
        "  X_train = np.random.normal(0,1, size=(train_n,d))\n",
        "  a_true = np.random.normal(0,1, size=(d,1))\n",
        "  y_train = X_train.dot(a_true) + np.random.normal(0,0.5,size=(train_n,1))\n",
        "  X_test = np.random.normal(0,1, size=(test_n,d))\n",
        "  y_test = X_test.dot(a_true) + np.random.normal(0,0.5,size=(test_n,1))\n",
        "  \n",
        "  #Calculate train error\n",
        "  error,w = Error_func(Lambda,X_train,y_train,d)    \n",
        "  Train_error.append(error)\n",
        "\n",
        "  #Calculate Test error\n",
        "  for i in range(len(Lambda)):\n",
        "    tes_error.append(np.linalg.norm(np.dot(X_test,w[i]) - y_test) / np.linalg.norm(y_test))\n",
        "\n",
        "  Test_error.append(tes_error)\n",
        "\n",
        "#Find the mean of train and test errors  \n",
        "Train_error = np.mean(Train_error,0)\n",
        "Test_error = np.mean(Test_error,0)\n",
        "for i in range(len(Lambda)):\n",
        "  Lambda[i] = math.log(Lambda[i])\n",
        "\n",
        "#Plot the graph\n",
        "plt.plot(Lambda, Train_error, label = 'Train error', color = 'blue')\n",
        "plt.plot(Lambda, Test_error, label = 'Test error', color ='green')\n",
        "plt.xlabel(\"log lambda\")\n",
        "plt.ylabel(\"Error\")\n",
        "plt.legend()\n",
        "plt.title(\"Error vs Log(lambda)\")\n",
        "plt.show()\n",
        "\n",
        "\n",
        "  "
      ]
    }
  ]
}