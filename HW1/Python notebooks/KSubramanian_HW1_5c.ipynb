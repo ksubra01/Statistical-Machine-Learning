{
  "nbformat": 4,
  "nbformat_minor": 0,
  "metadata": {
    "colab": {
      "provenance": [],
      "collapsed_sections": []
    },
    "kernelspec": {
      "name": "python3",
      "display_name": "Python 3"
    },
    "language_info": {
      "name": "python"
    }
  },
  "cells": [
    {
      "cell_type": "code",
      "execution_count": null,
      "metadata": {
        "colab": {
          "base_uri": "https://localhost:8080/",
          "height": 279
        },
        "id": "FIN2RA2PCdO4",
        "outputId": "48d9f908-07ef-4ae6-a4cf-c73c29ce136e"
      },
      "outputs": [
        {
          "output_type": "display_data",
          "data": {
            "text/plain": [
              "<Figure size 432x288 with 1 Axes>"
            ],
            "image/png": "[encoded data removed]"
          },
          "metadata": {
            "needs_background": "light"
          }
        }
      ],
      "source": [
        "#Problem 5 \n",
        "#sub problem c\n",
        "# Name: Karthick Subramanian\n",
        "# ASUID: 1223408524\n",
        "\n",
        "import numpy as np\n",
        "from keras.datasets import mnist\n",
        "from matplotlib import pyplot as plt\n",
        "from sklearn.model_selection import train_test_split\n",
        "import math\n",
        "\n",
        "d = 784\n",
        "clas = 10\n",
        "\n",
        "(X_train, labels_train), (X_test, labels_test) = mnist.load_data()\n",
        "#mndata = MNIST(r'/content/train-images-idx3-ubyte.gz')\n",
        "#X_train, labels_train = map(np.array, mndata.load_training())\n",
        "#X_test, labels_test = map(np.array, mndata.load_testing())\n",
        "X_train = X_train/255.0\n",
        "X_test = X_test/255.0\n",
        "\n",
        "X_train = X_train.reshape(60000,784)\n",
        "X_test = X_test.reshape(10000,784)\n",
        "\n",
        "# Training function\n",
        "def train(X,y,lambd,p):\n",
        "  X_Trans = np.transpose(X)\n",
        "  I = np.identity(p)\n",
        "  w = []\n",
        "  Inv = np.linalg.solve(np.dot(X_Trans,X) + lambd*I, I)\n",
        "  X_t_y = np.dot(X_Trans,y)\n",
        "  w_cap = np.dot(Inv,X_t_y)\n",
        "  return w_cap\n",
        "\n",
        "#One hot encoding function\n",
        "def one_hot_encode(y,cla):\n",
        "  ohe = np.zeros((y.shape[0],cla))\n",
        "  for i,ys in enumerate(y):\n",
        "    ohe[i][ys] = 1\n",
        "  return ohe\n",
        "\n",
        "# Predict function\n",
        "def predict(W,x_prime):\n",
        "  w_Trans = np.transpose(W)\n",
        "  a,b = np.shape(x_prime)\n",
        "  result = []\n",
        "  for i in range(a):\n",
        "    x_i_prime = x_prime[i]\n",
        "    x_i_prime = np.transpose(x_i_prime)\n",
        "    result.append(np.argmax(np.dot(w_Trans,x_i_prime)))\n",
        "\n",
        "  return result\n",
        "\n",
        "\n",
        "\n",
        "\n",
        "#Error Function\n",
        "def Error(pred, X, labels):\n",
        "  a,b = np.shape(X)\n",
        "  Error = 0\n",
        "  for i in range(a):\n",
        "    if labels[i] != pred[i]:\n",
        "      Error = Error + 1\n",
        "  return Error / a\n",
        "\n",
        "x_train_cv, x_test_cv, y_train_cv, y_test_cv = train_test_split(X_train, labels_train,test_size=0.2, shuffle='True')\n",
        "p = 6000\n",
        "P = []\n",
        "final_error = []\n",
        "final_test_error = []\n",
        "\n",
        "#Looping through p to get error for each value of p\n",
        "# To reduce computational load, the step size is taken as 100\n",
        "for i in range(1,p,100):\n",
        "  G = np.random.normal(0,0.1,size=(i,d))\n",
        "  G = np.transpose(G)\n",
        "  b = np.random.uniform(0, 2*math.pi,size=i)\n",
        "  b = np.transpose(b)\n",
        "\n",
        "  # Training \n",
        "  h = np.cos(np.dot(x_train_cv,G) + b)\n",
        "  y_train_encode = one_hot_encode(y_train_cv, clas)\n",
        "  W = train(h,y_train_encode,0.0001,i)\n",
        "  final_error.append(Error(predict(W,h), h, y_train_cv) * 100)\n",
        "\n",
        "  P.append(i)\n",
        "\n",
        "  #Testing\n",
        "  h_dash = np.cos(np.dot(x_test_cv,G) + b)\n",
        "  y_test_encode = one_hot_encode(y_test_cv, clas)\n",
        "  final_test_error.append(Error(predict(W,h_dash), h_dash, y_test_cv) * 100)\n",
        "\n",
        "plt.plot(P,final_error, label = \"Classification error\")\n",
        "plt.plot(P,final_test_error, label = \"Validation error\")\n",
        "plt.xlabel(\"values of p\")\n",
        "plt.ylabel(\"% of error\")\n",
        "plt.legend()\n",
        "plt.show()\n",
        "\n",
        "\n",
        "\n",
        "\n",
        "\n",
        "\n",
        "\n",
        "\n",
        "\n"
      ]
    },
    {
      "cell_type": "code",
      "source": [],
      "metadata": {
        "id": "KLd5OOkIQyyS"
      },
      "execution_count": null,
      "outputs": []
    }
  ]
}