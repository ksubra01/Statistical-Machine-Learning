{
  "nbformat": 4,
  "nbformat_minor": 0,
  "metadata": {
    "colab": {
      "provenance": [],
      "collapsed_sections": []
    },
    "kernelspec": {
      "name": "python3",
      "display_name": "Python 3"
    },
    "language_info": {
      "name": "python"
    }
  },
  "cells": [
    {
      "cell_type": "markdown",
      "source": [
        "# 3A"
      ],
      "metadata": {
        "id": "euzMsOSisVR0"
      }
    },
    {
      "cell_type": "markdown",
      "source": [
        "mu1 and sigma1"
      ],
      "metadata": {
        "id": "t-BWsjIGY2IZ"
      }
    },
    {
      "cell_type": "code",
      "execution_count": 2,
      "metadata": {
        "colab": {
          "base_uri": "https://localhost:8080/",
          "height": 312
        },
        "id": "v7hCgNdJHxRW",
        "outputId": "a896d2a0-2423-4c01-ffa4-5bad90c9deea"
      },
      "outputs": [
        {
          "output_type": "execute_result",
          "data": {
            "text/plain": [
              "Text(0.5, 1.0, 'Scatter plot for mu1 and sigma2')"
            ]
          },
          "metadata": {},
          "execution_count": 2
        },
        {
          "output_type": "display_data",
          "data": {
            "text/plain": [
              "<Figure size 432x288 with 1 Axes>"
            ],
            "image/png": "[encoded data removed]"
          },
          "metadata": {
            "needs_background": "light"
          }
        }
      ],
      "source": [
        "import numpy as np\n",
        "from matplotlib import pyplot as plt\n",
        "from scipy.linalg import sqrtm\n",
        "d = 2\n",
        "X = []\n",
        "mu1 = np.array([1,2])\n",
        "sigma1 = np.array([[1,0],[0,2]])\n",
        "x1,x2 = [],[]\n",
        "A = sqrtm(sigma1) # not correct. Must find square root of matrix, not square root of elements.\n",
        "b = mu1\n",
        "for i in range(100):\n",
        "  X.append(np.random.randn(d))\n",
        "  \n",
        "  X[i] = np.dot(A,X[i]) + b\n",
        "  Z = X[i]\n",
        "  x1.append(Z[0])\n",
        "  x2.append(Z[1])\n",
        "\n",
        "plt.scatter(x1,x2,marker='^')\n",
        "plt.xlim(-6,6)\n",
        "plt.ylim(-6,6)\n",
        "plt.xlabel(\"x1\")\n",
        "plt.ylabel(\"x2\")\n",
        "plt.title(\"Scatter plot for mu1 and sigma2\")\n"
      ]
    },
    {
      "cell_type": "markdown",
      "source": [
        "mu2 and sigma2"
      ],
      "metadata": {
        "id": "CzH1r6E8YynI"
      }
    },
    {
      "cell_type": "code",
      "source": [
        "import numpy as np\n",
        "from matplotlib import pyplot as plt\n",
        "from scipy.linalg import sqrtm\n",
        "d = 2\n",
        "X = []\n",
        "mu2 = np.array([2,-2])\n",
        "sigma2 = np.array([[3,1],[1,2]])\n",
        "A = sqrtm(sigma2)\n",
        "plt1,plt2 = [],[]\n",
        "for i in range(100):\n",
        "\n",
        "  X.append(np.random.randn(d))\n",
        " \n",
        "  X[i] = np.dot(A,X[i]) + mu2\n",
        "\n",
        "  Z = X[i]\n",
        "  plt1.append(Z[0])\n",
        "  plt2.append(Z[1])\n",
        "plt.scatter(plt1,plt2,marker='^')\n",
        "plt.xlim(-6,6)\n",
        "plt.ylim(-6,6)\n",
        "plt.xlabel(\"x1\")\n",
        "plt.ylabel(\"x2\")\n",
        "plt.title(\"Scatter plot for mu2 and sigma2\")"
      ],
      "metadata": {
        "colab": {
          "base_uri": "https://localhost:8080/",
          "height": 312
        },
        "id": "MtHHihRMa_x_",
        "outputId": "9405e615-fb74-4ab1-e88a-892f7bea59a0"
      },
      "execution_count": 3,
      "outputs": [
        {
          "output_type": "execute_result",
          "data": {
            "text/plain": [
              "Text(0.5, 1.0, 'Scatter plot for mu2 and sigma2')"
            ]
          },
          "metadata": {},
          "execution_count": 3
        },
        {
          "output_type": "display_data",
          "data": {
            "text/plain": [
              "<Figure size 432x288 with 1 Axes>"
            ],
            "image/png": "[encoded data removed]"
          },
          "metadata": {
            "needs_background": "light"
          }
        }
      ]
    },
    {
      "cell_type": "markdown",
      "source": [
        "# 3B"
      ],
      "metadata": {
        "id": "Cw2wbPBYj-lM"
      }
    },
    {
      "cell_type": "markdown",
      "source": [
        "mu1 and sigma1"
      ],
      "metadata": {
        "id": "-zpvNXWtYiCP"
      }
    },
    {
      "cell_type": "code",
      "source": [
        "##### Mu 1 and Sigma 1 ######\n",
        "\n",
        "import numpy as np\n",
        "from matplotlib import pyplot as plt\n",
        "from scipy.linalg import sqrtm\n",
        "d = 2\n",
        "X = []\n",
        "mu1 = np.array([1,2])\n",
        "sigma1 = np.array([[1,0],[0,2]])\n",
        "x1,x2 = [],[]\n",
        "mu_1,mu_2 = 0,0\n",
        "n = 100\n",
        "A = sqrtm(sigma1)\n",
        "\n",
        "##### Calculate Sample mean - mu hat #######\n",
        "for i in range(100):\n",
        "\n",
        "  X.append(np.random.randn(d))\n",
        "  Z = np.random.randn(d)\n",
        "  X[i] = np.dot(A,X[i]) + mu1\n",
        "  Z = X[i]\n",
        "  x1.append(Z[0])\n",
        "  x2.append(Z[1])\n",
        "  mu_1 = mu_1 + Z[0]\n",
        "  mu_2 = mu_2 + Z[1]\n",
        "\n",
        "mu_cap_1 = np.array([[mu_1/n],[mu_2/n]])\n",
        "\n",
        "\n",
        "##### Done with Sample mean - mu hat ########\n",
        "\n",
        "##### Calculate Sample variance - sigma hat ######\n",
        "\n",
        "sigma_cap_1 = np.zeros(2)\n",
        "\n",
        "for i in range(100):\n",
        "  Z = X[i]\n",
        "  np.reshape(Z,(2,1))\n",
        "  t = (Z - mu_cap_1) * (Z - mu_cap_1).T\n",
        "  sigma_cap_1 = sigma_cap_1 + t\n",
        "sigma_cap_1 = sigma_cap_1 / (n-1)\n",
        "\n",
        "\n",
        "##### Done with calculating sample variance - sigma hat ####\n",
        "\n",
        "##### Calculate Eigen values and Eigen vectors #####\n",
        "Eig_val,Eig_vec = np.linalg.eig(sigma_cap_1)\n",
        "print(Eig_vec)\n",
        "plt.quiver(*mu_cap_1,*Eig_vec[:,0],scale_units='xy',scale=np.sqrt(Eig_val[0]))\n",
        "plt.quiver(*mu_cap_1,*Eig_vec[:,1],scale_units='xy',scale=np.sqrt(Eig_val[1]))\n",
        "plt.scatter(x1,x2,marker='^')\n",
        "plt.xlabel(\"x1\")\n",
        "plt.ylabel(\"x2\")\n",
        "plt.title(\"Eigen Vecors for mu1 and sigma1\")\n",
        "plt.xlim(-5,5)\n",
        "plt.ylim(-5,5)\n",
        "\n",
        "\n",
        "\n",
        "\n"
      ],
      "metadata": {
        "colab": {
          "base_uri": "https://localhost:8080/",
          "height": 347
        },
        "id": "XhH2uqxfkCAu",
        "outputId": "063ae0fe-9ae5-4af7-f763-a27634438a94"
      },
      "execution_count": 4,
      "outputs": [
        {
          "output_type": "stream",
          "name": "stdout",
          "text": [
            "[[-0.8179057  0.5753523]\n",
            " [-0.5753523 -0.8179057]]\n"
          ]
        },
        {
          "output_type": "execute_result",
          "data": {
            "text/plain": [
              "(-5.0, 5.0)"
            ]
          },
          "metadata": {},
          "execution_count": 4
        },
        {
          "output_type": "display_data",
          "data": {
            "text/plain": [
              "<Figure size 432x288 with 1 Axes>"
            ],
            "image/png": "[encoded data removed]"
          },
          "metadata": {
            "needs_background": "light"
          }
        }
      ]
    },
    {
      "cell_type": "markdown",
      "source": [
        "Mu2 and sigma2"
      ],
      "metadata": {
        "id": "wK_50maWYfPs"
      }
    },
    {
      "cell_type": "code",
      "source": [
        "##### Mu 2 and Sigma 2 ######\n",
        "\n",
        "import numpy as np\n",
        "from matplotlib import pyplot as plt\n",
        "from scipy.linalg import sqrtm\n",
        "d = 2\n",
        "X = []\n",
        "mu2 = np.array([2,-2])\n",
        "sigma2 = np.array([[3,1],[1,2]])\n",
        "x1,x2 = [],[]\n",
        "mu_1,mu_2 = 0,0\n",
        "n = 100\n",
        "A = sqrtm(sigma2)\n",
        "for i in range(100):\n",
        "\n",
        "  X.append(np.random.randn(d))\n",
        "  Z = np.random.randn(d)\n",
        "  X[i] = np.dot(A,X[i]) + mu2\n",
        "  Z = X[i]\n",
        "  x1.append(Z[0])\n",
        "  x2.append(Z[1])\n",
        "  mu_1 = mu_1 + Z[0]\n",
        "  mu_2 = mu_2 + Z[1]\n",
        "\n",
        "mu_cap_2 = np.array([[mu_1/n],[mu_2/n]])\n",
        "\n",
        "sigma_cap_2 = np.zeros(2)\n",
        "\n",
        "for i in range(100):\n",
        "  Z = X[i]\n",
        "  np.reshape(Z,(2,1))\n",
        "  t = (Z - mu_cap_2) * (Z - mu_cap_2).T\n",
        "  sigma_cap_2 = sigma_cap_2 + t\n",
        "sigma_cap_2 = sigma_cap_2 / (n-1)\n",
        "\n",
        "\n",
        "Eig_val_2,Eig_vec_2 = np.linalg.eig(sigma_cap_1)\n",
        "print(Eig_val)\n",
        "plt.quiver(*mu_cap_2,*Eig_vec_2[:,0],scale_units='xy',scale=np.sqrt(Eig_val_2[0]))\n",
        "plt.quiver(*mu_cap_2,*Eig_vec_2[:,1],scale_units='xy',scale=np.sqrt(Eig_val_2[1]))\n",
        "plt.scatter(x1,x2,marker='^')\n",
        "plt.xlabel(\"x1\")\n",
        "plt.ylabel(\"x2\")\n",
        "plt.title(\"Eigen Vecors for mu2 and sigma2\")\n",
        "plt.xlim(-5,5)\n",
        "plt.ylim(-5,5)\n",
        "\n"
      ],
      "metadata": {
        "id": "rPWPo2Mi8XuD",
        "colab": {
          "base_uri": "https://localhost:8080/",
          "height": 330
        },
        "outputId": "215c156d-4521-4765-d1eb-5e4a026a15be"
      },
      "execution_count": 5,
      "outputs": [
        {
          "output_type": "stream",
          "name": "stdout",
          "text": [
            "[0.70189404 2.14949087]\n"
          ]
        },
        {
          "output_type": "execute_result",
          "data": {
            "text/plain": [
              "Text(0.5, 1.0, 'Eigen Vecors for mu2 and sigma2')"
            ]
          },
          "metadata": {},
          "execution_count": 5
        },
        {
          "output_type": "display_data",
          "data": {
            "text/plain": [
              "<Figure size 432x288 with 1 Axes>"
            ],
            "image/png": "[encoded data removed]"
          },
          "metadata": {
            "needs_background": "light"
          }
        }
      ]
    },
    {
      "cell_type": "markdown",
      "source": [
        "# 3C"
      ],
      "metadata": {
        "id": "Dult29Ic4rUz"
      }
    },
    {
      "cell_type": "markdown",
      "source": [
        "Mu1 and sigma1"
      ],
      "metadata": {
        "id": "7zuwVP32YnGU"
      }
    },
    {
      "cell_type": "code",
      "source": [
        "##### Mu 1 and Sigma 1 ######\n",
        "\n",
        "import numpy as np\n",
        "from matplotlib import pyplot as plt\n",
        "from scipy.linalg import sqrtm\n",
        "d = 2\n",
        "X = []\n",
        "mu1 = np.array([1,2])\n",
        "sigma1 = np.array([[1,0],[0,2]])\n",
        "x1,x2 = [],[]\n",
        "mu_1,mu_2 = 0,0\n",
        "n = 100\n",
        "A = sqrtm(sigma1)\n",
        "\n",
        "##### Calculate Sample mean - mu hat #######\n",
        "for i in range(100):\n",
        "\n",
        "  X.append(np.random.randn(d))\n",
        "  Z = np.random.randn(d)\n",
        "  X[i] = np.dot(A,X[i]) + mu1\n",
        "  Z = X[i]\n",
        "  x1.append(Z[0])\n",
        "  x2.append(Z[1])\n",
        "  mu_1 = mu_1 + Z[0]\n",
        "  mu_2 = mu_2 + Z[1]\n",
        "\n",
        "mu_cap_1 = np.array([[mu_1/n],[mu_2/n]])\n",
        "\n",
        "\n",
        "##### Done with Sample mean - mu hat ########\n",
        "\n",
        "##### Calculate Sample variance - sigma hat ######\n",
        "\n",
        "sigma_cap_1 = np.zeros(2)\n",
        "\n",
        "for i in range(100):\n",
        "  Z = X[i]\n",
        "  np.reshape(Z,(2,1))\n",
        "  t = (Z - mu_cap_1) * (Z - mu_cap_1).T\n",
        "  sigma_cap_1 = sigma_cap_1 + t\n",
        "sigma_cap_1 = sigma_cap_1 / (n-1)\n",
        "\n",
        "\n",
        "##### Done with calculating sample variance - sigma hat ####\n",
        "\n",
        "\n",
        "######### calculateEigen values, X_tilda and plot #################\n",
        "Eig_val_1,Eig_vec_1 = np.linalg.eig(sigma_cap_1)\n",
        "Eig_vec_1 = np.array(Eig_vec_1)\n",
        "X = np.array(X)\n",
        "X = X.T\n",
        "X_ti = np.zeros([2,n])\n",
        "for i in range(2):\n",
        "  X_ti[i,:] =  (np.dot(Eig_vec_1[:,i].T,(X - mu_cap_1)) / np.sqrt(Eig_val_1[i])).T\n",
        "\n",
        "z1,z2 = [],[]\n",
        "X_ti = X_ti.T\n",
        "for i in range(n):\n",
        "  v = X_ti[i]\n",
        "  z1.append(v[0])\n",
        "  z2.append(v[1])\n",
        "plt.scatter(z2,z1)\n",
        "plt.xlabel(\"x1\")\n",
        "plt.ylabel(\"x2\")\n",
        "plt.title(\"Scatter plot of X_tilda using mu1 and sigma1\")\n",
        "plt.xlim()\n",
        "plt.ylim(-2,2)\n",
        "plt.xlim(-4,4)"
      ],
      "metadata": {
        "colab": {
          "base_uri": "https://localhost:8080/",
          "height": 312
        },
        "id": "oiTwLL0qSJD-",
        "outputId": "5d8eb04f-33ae-4a09-defa-13b09406c257"
      },
      "execution_count": 9,
      "outputs": [
        {
          "output_type": "execute_result",
          "data": {
            "text/plain": [
              "(-4.0, 4.0)"
            ]
          },
          "metadata": {},
          "execution_count": 9
        },
        {
          "output_type": "display_data",
          "data": {
            "text/plain": [
              "<Figure size 432x288 with 1 Axes>"
            ],
            "image/png": "[encoded data removed]"
          },
          "metadata": {
            "needs_background": "light"
          }
        }
      ]
    },
    {
      "cell_type": "markdown",
      "source": [
        "Mu2 sigma2"
      ],
      "metadata": {
        "id": "f-OkgOY3Ysnt"
      }
    },
    {
      "cell_type": "code",
      "source": [
        "##### Mu 2 and Sigma 2 ######\n",
        "\n",
        "import numpy as np\n",
        "from matplotlib import pyplot as plt\n",
        "from scipy.linalg import sqrtm\n",
        "d = 2\n",
        "X = []\n",
        "mu2 = np.array([2,-2])\n",
        "sigma2 = np.array([[3,1],[1,2]])\n",
        "x1,x2 = [],[]\n",
        "mu_1,mu_2 = 0,0\n",
        "n = 100\n",
        "A1 = sqrtm(sigma2)\n",
        "for i in range(100):\n",
        "\n",
        "  X.append(np.random.randn(d))\n",
        "  Z = np.random.randn(d)\n",
        "  X[i] = np.dot(A1,X[i]) + mu2\n",
        "  Z = X[i]\n",
        "  x1.append(Z[0])\n",
        "  x2.append(Z[1])\n",
        "  mu_1 = mu_1 + Z[0]\n",
        "  mu_2 = mu_2 + Z[1]\n",
        "\n",
        "mu_cap_2 = np.array([[mu_1/n],[mu_2/n]])\n",
        "\n",
        "sigma_cap_2 = np.zeros(2)\n",
        "\n",
        "# for i in range(100):\n",
        "#   Z = X[i]\n",
        "#   np.reshape(Z,(2,1))\n",
        "#   t = (Z - mu_cap_2) * (Z - mu_cap_2).T\n",
        "#   sigma_cap_2 = sigma_cap_2 + t\n",
        "# sigma_cap_2 = sigma_cap_2 / (n-1)\n",
        "X = np.array(X)\n",
        "X = X.T\n",
        "sigma_cap_2 = np.dot(X - mu_cap_2,(X - mu_cap_2).T) / n-1\n",
        "# print(sigma_cap_2)\n",
        "\n",
        "Eig_val_2,Eig_vec_2 = np.linalg.eig(sigma_cap_2)\n",
        "\n",
        "######### calculateEigen values, X_tilda and plot #################\n",
        "\n",
        "Eig_vec_1 = np.array(Eig_vec_2)\n",
        "\n",
        "\n",
        "X_ti1 = np.zeros([2,n])\n",
        "for i in range(2):\n",
        "  X_ti1[i,:] =  (np.dot(Eig_vec_2[:,i].T,(X - mu_cap_2)) / np.sqrt(Eig_val_2[i])).T\n",
        "\n",
        "z1,z2 = [],[]\n",
        "X_ti1 = X_ti1.T\n",
        "for i in range(n):\n",
        "  v = X_ti1[i]\n",
        "  z1.append(v[0])\n",
        "  z2.append(v[1])\n",
        "plt.scatter(z1,z2)\n",
        "plt.xlabel(\"x1\")\n",
        "plt.ylabel(\"x2\")\n",
        "plt.title(\"Scatter plot of X_tilda using mu2 and sigma2\")"
      ],
      "metadata": {
        "colab": {
          "base_uri": "https://localhost:8080/",
          "height": 312
        },
        "id": "0nf2gwKjXV9K",
        "outputId": "9ef2938c-1a11-435f-b020-503156a98d2a"
      },
      "execution_count": 7,
      "outputs": [
        {
          "output_type": "execute_result",
          "data": {
            "text/plain": [
              "Text(0.5, 1.0, 'Scatter plot of X_tilda using mu2 and sigma2')"
            ]
          },
          "metadata": {},
          "execution_count": 7
        },
        {
          "output_type": "display_data",
          "data": {
            "text/plain": [
              "<Figure size 432x288 with 1 Axes>"
            ],
            "image/png": "[encoded data removed]"
          },
          "metadata": {
            "needs_background": "light"
          }
        }
      ]
    }
  ]
}